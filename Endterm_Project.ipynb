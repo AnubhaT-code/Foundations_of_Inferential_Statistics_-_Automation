{
 "cells": [
  {
   "cell_type": "code",
   "execution_count": 1,
   "id": "83e07d92",
   "metadata": {},
   "outputs": [],
   "source": [
    "import numpy as np\n",
    "import pandas as pd"
   ]
  },
  {
   "cell_type": "code",
   "execution_count": 2,
   "id": "f0dbd948",
   "metadata": {},
   "outputs": [],
   "source": [
    "path = r\"D:\\helloiitk sem summer\\EE798Q\\STOCK_INDEX.csv\""
   ]
  },
  {
   "cell_type": "code",
   "execution_count": 3,
   "id": "09100d31",
   "metadata": {},
   "outputs": [],
   "source": [
    "df = pd.read_csv(path)"
   ]
  },
  {
   "cell_type": "code",
   "execution_count": 4,
   "id": "1f47bc1b",
   "metadata": {},
   "outputs": [
    {
     "data": {
      "text/html": [
       "<div>\n",
       "<style scoped>\n",
       "    .dataframe tbody tr th:only-of-type {\n",
       "        vertical-align: middle;\n",
       "    }\n",
       "\n",
       "    .dataframe tbody tr th {\n",
       "        vertical-align: top;\n",
       "    }\n",
       "\n",
       "    .dataframe thead th {\n",
       "        text-align: right;\n",
       "    }\n",
       "</style>\n",
       "<table border=\"1\" class=\"dataframe\">\n",
       "  <thead>\n",
       "    <tr style=\"text-align: right;\">\n",
       "      <th></th>\n",
       "      <th>Date</th>\n",
       "      <th>Open</th>\n",
       "      <th>High</th>\n",
       "      <th>Low</th>\n",
       "      <th>Close</th>\n",
       "      <th>Adj Close</th>\n",
       "      <th>Volume</th>\n",
       "    </tr>\n",
       "  </thead>\n",
       "  <tbody>\n",
       "    <tr>\n",
       "      <th>2689</th>\n",
       "      <td>2021-04-26</td>\n",
       "      <td>14449.45020</td>\n",
       "      <td>14557.50000</td>\n",
       "      <td>14421.29981</td>\n",
       "      <td>14485.00000</td>\n",
       "      <td>14485.00000</td>\n",
       "      <td>452700.0</td>\n",
       "    </tr>\n",
       "    <tr>\n",
       "      <th>2690</th>\n",
       "      <td>2021-04-27</td>\n",
       "      <td>14493.79981</td>\n",
       "      <td>14667.54981</td>\n",
       "      <td>14484.84961</td>\n",
       "      <td>14653.04981</td>\n",
       "      <td>14653.04981</td>\n",
       "      <td>451800.0</td>\n",
       "    </tr>\n",
       "    <tr>\n",
       "      <th>2691</th>\n",
       "      <td>2021-04-28</td>\n",
       "      <td>14710.50000</td>\n",
       "      <td>14890.25000</td>\n",
       "      <td>14694.95020</td>\n",
       "      <td>14864.54981</td>\n",
       "      <td>14864.54981</td>\n",
       "      <td>457000.0</td>\n",
       "    </tr>\n",
       "    <tr>\n",
       "      <th>2692</th>\n",
       "      <td>2021-04-29</td>\n",
       "      <td>14979.00000</td>\n",
       "      <td>15044.34961</td>\n",
       "      <td>14814.45020</td>\n",
       "      <td>14894.90039</td>\n",
       "      <td>14894.90039</td>\n",
       "      <td>517500.0</td>\n",
       "    </tr>\n",
       "    <tr>\n",
       "      <th>2693</th>\n",
       "      <td>2021-04-30</td>\n",
       "      <td>14747.34961</td>\n",
       "      <td>14855.45020</td>\n",
       "      <td>14601.70020</td>\n",
       "      <td>14631.09961</td>\n",
       "      <td>14631.09961</td>\n",
       "      <td>613900.0</td>\n",
       "    </tr>\n",
       "  </tbody>\n",
       "</table>\n",
       "</div>"
      ],
      "text/plain": [
       "            Date         Open         High          Low        Close  \\\n",
       "2689  2021-04-26  14449.45020  14557.50000  14421.29981  14485.00000   \n",
       "2690  2021-04-27  14493.79981  14667.54981  14484.84961  14653.04981   \n",
       "2691  2021-04-28  14710.50000  14890.25000  14694.95020  14864.54981   \n",
       "2692  2021-04-29  14979.00000  15044.34961  14814.45020  14894.90039   \n",
       "2693  2021-04-30  14747.34961  14855.45020  14601.70020  14631.09961   \n",
       "\n",
       "        Adj Close    Volume  \n",
       "2689  14485.00000  452700.0  \n",
       "2690  14653.04981  451800.0  \n",
       "2691  14864.54981  457000.0  \n",
       "2692  14894.90039  517500.0  \n",
       "2693  14631.09961  613900.0  "
      ]
     },
     "execution_count": 4,
     "metadata": {},
     "output_type": "execute_result"
    }
   ],
   "source": [
    "df.tail()"
   ]
  },
  {
   "cell_type": "code",
   "execution_count": 5,
   "id": "45c0ea2b",
   "metadata": {
    "scrolled": false
   },
   "outputs": [
    {
     "data": {
      "text/plain": [
       "Date          0\n",
       "Open         27\n",
       "High         27\n",
       "Low          27\n",
       "Close        27\n",
       "Adj Close    27\n",
       "Volume       27\n",
       "dtype: int64"
      ]
     },
     "execution_count": 5,
     "metadata": {},
     "output_type": "execute_result"
    }
   ],
   "source": [
    "df.isnull().sum()"
   ]
  },
  {
   "cell_type": "code",
   "execution_count": 6,
   "id": "d844f8bc",
   "metadata": {},
   "outputs": [
    {
     "data": {
      "text/html": [
       "<div>\n",
       "<style scoped>\n",
       "    .dataframe tbody tr th:only-of-type {\n",
       "        vertical-align: middle;\n",
       "    }\n",
       "\n",
       "    .dataframe tbody tr th {\n",
       "        vertical-align: top;\n",
       "    }\n",
       "\n",
       "    .dataframe thead th {\n",
       "        text-align: right;\n",
       "    }\n",
       "</style>\n",
       "<table border=\"1\" class=\"dataframe\">\n",
       "  <thead>\n",
       "    <tr style=\"text-align: right;\">\n",
       "      <th></th>\n",
       "      <th>Open</th>\n",
       "      <th>High</th>\n",
       "      <th>Low</th>\n",
       "      <th>Close</th>\n",
       "      <th>Adj Close</th>\n",
       "      <th>Volume</th>\n",
       "    </tr>\n",
       "  </thead>\n",
       "  <tbody>\n",
       "    <tr>\n",
       "      <th>0</th>\n",
       "      <td>5200.899902</td>\n",
       "      <td>5238.450195</td>\n",
       "      <td>5167.100098</td>\n",
       "      <td>5232.200195</td>\n",
       "      <td>5232.200195</td>\n",
       "      <td>0.0</td>\n",
       "    </tr>\n",
       "    <tr>\n",
       "      <th>1</th>\n",
       "      <td>5277.149902</td>\n",
       "      <td>5288.350098</td>\n",
       "      <td>5242.399902</td>\n",
       "      <td>5277.899902</td>\n",
       "      <td>5277.899902</td>\n",
       "      <td>0.0</td>\n",
       "    </tr>\n",
       "    <tr>\n",
       "      <th>2</th>\n",
       "      <td>5278.149902</td>\n",
       "      <td>5310.850098</td>\n",
       "      <td>5260.049805</td>\n",
       "      <td>5281.799805</td>\n",
       "      <td>5281.799805</td>\n",
       "      <td>0.0</td>\n",
       "    </tr>\n",
       "    <tr>\n",
       "      <th>3</th>\n",
       "      <td>5281.799805</td>\n",
       "      <td>5302.549805</td>\n",
       "      <td>5244.750000</td>\n",
       "      <td>5263.100098</td>\n",
       "      <td>5263.100098</td>\n",
       "      <td>0.0</td>\n",
       "    </tr>\n",
       "    <tr>\n",
       "      <th>4</th>\n",
       "      <td>5264.250000</td>\n",
       "      <td>5276.750000</td>\n",
       "      <td>5234.700195</td>\n",
       "      <td>5244.750000</td>\n",
       "      <td>5244.750000</td>\n",
       "      <td>0.0</td>\n",
       "    </tr>\n",
       "    <tr>\n",
       "      <th>...</th>\n",
       "      <td>...</td>\n",
       "      <td>...</td>\n",
       "      <td>...</td>\n",
       "      <td>...</td>\n",
       "      <td>...</td>\n",
       "      <td>...</td>\n",
       "    </tr>\n",
       "    <tr>\n",
       "      <th>2689</th>\n",
       "      <td>14449.450200</td>\n",
       "      <td>14557.500000</td>\n",
       "      <td>14421.299810</td>\n",
       "      <td>14485.000000</td>\n",
       "      <td>14485.000000</td>\n",
       "      <td>452700.0</td>\n",
       "    </tr>\n",
       "    <tr>\n",
       "      <th>2690</th>\n",
       "      <td>14493.799810</td>\n",
       "      <td>14667.549810</td>\n",
       "      <td>14484.849610</td>\n",
       "      <td>14653.049810</td>\n",
       "      <td>14653.049810</td>\n",
       "      <td>451800.0</td>\n",
       "    </tr>\n",
       "    <tr>\n",
       "      <th>2691</th>\n",
       "      <td>14710.500000</td>\n",
       "      <td>14890.250000</td>\n",
       "      <td>14694.950200</td>\n",
       "      <td>14864.549810</td>\n",
       "      <td>14864.549810</td>\n",
       "      <td>457000.0</td>\n",
       "    </tr>\n",
       "    <tr>\n",
       "      <th>2692</th>\n",
       "      <td>14979.000000</td>\n",
       "      <td>15044.349610</td>\n",
       "      <td>14814.450200</td>\n",
       "      <td>14894.900390</td>\n",
       "      <td>14894.900390</td>\n",
       "      <td>517500.0</td>\n",
       "    </tr>\n",
       "    <tr>\n",
       "      <th>2693</th>\n",
       "      <td>14747.349610</td>\n",
       "      <td>14855.450200</td>\n",
       "      <td>14601.700200</td>\n",
       "      <td>14631.099610</td>\n",
       "      <td>14631.099610</td>\n",
       "      <td>613900.0</td>\n",
       "    </tr>\n",
       "  </tbody>\n",
       "</table>\n",
       "<p>2694 rows × 6 columns</p>\n",
       "</div>"
      ],
      "text/plain": [
       "              Open          High           Low         Close     Adj Close  \\\n",
       "0      5200.899902   5238.450195   5167.100098   5232.200195   5232.200195   \n",
       "1      5277.149902   5288.350098   5242.399902   5277.899902   5277.899902   \n",
       "2      5278.149902   5310.850098   5260.049805   5281.799805   5281.799805   \n",
       "3      5281.799805   5302.549805   5244.750000   5263.100098   5263.100098   \n",
       "4      5264.250000   5276.750000   5234.700195   5244.750000   5244.750000   \n",
       "...            ...           ...           ...           ...           ...   \n",
       "2689  14449.450200  14557.500000  14421.299810  14485.000000  14485.000000   \n",
       "2690  14493.799810  14667.549810  14484.849610  14653.049810  14653.049810   \n",
       "2691  14710.500000  14890.250000  14694.950200  14864.549810  14864.549810   \n",
       "2692  14979.000000  15044.349610  14814.450200  14894.900390  14894.900390   \n",
       "2693  14747.349610  14855.450200  14601.700200  14631.099610  14631.099610   \n",
       "\n",
       "        Volume  \n",
       "0          0.0  \n",
       "1          0.0  \n",
       "2          0.0  \n",
       "3          0.0  \n",
       "4          0.0  \n",
       "...        ...  \n",
       "2689  452700.0  \n",
       "2690  451800.0  \n",
       "2691  457000.0  \n",
       "2692  517500.0  \n",
       "2693  613900.0  \n",
       "\n",
       "[2694 rows x 6 columns]"
      ]
     },
     "execution_count": 6,
     "metadata": {},
     "output_type": "execute_result"
    }
   ],
   "source": [
    "df2 = df.drop(df.columns[0], axis=1)\n",
    "df2"
   ]
  },
  {
   "cell_type": "code",
   "execution_count": 7,
   "id": "5940cdac",
   "metadata": {},
   "outputs": [],
   "source": [
    "from sklearn.impute import SimpleImputer\n",
    "\n",
    "# Interpolate missing values using linear interpolation\n",
    "df_interpolated = df2.interpolate(method='linear')\n",
    "\n",
    "# Use SimpleImputer to handle any remaining missing values\n",
    "imputer = SimpleImputer(strategy='mean')\n",
    "ndf = pd.DataFrame(imputer.fit_transform(df_interpolated), columns=df_interpolated.columns)\n"
   ]
  },
  {
   "cell_type": "code",
   "execution_count": 8,
   "id": "75f79666",
   "metadata": {},
   "outputs": [],
   "source": [
    "df1 = ndf.reset_index()['Close']"
   ]
  },
  {
   "cell_type": "code",
   "execution_count": 9,
   "id": "057af0a8",
   "metadata": {},
   "outputs": [
    {
     "data": {
      "text/plain": [
       "(2694,)"
      ]
     },
     "execution_count": 9,
     "metadata": {},
     "output_type": "execute_result"
    }
   ],
   "source": [
    "df1.shape"
   ]
  },
  {
   "cell_type": "code",
   "execution_count": 10,
   "id": "28005bbe",
   "metadata": {},
   "outputs": [
    {
     "data": {
      "text/plain": [
       "0        5232.200195\n",
       "1        5277.899902\n",
       "2        5281.799805\n",
       "3        5263.100098\n",
       "4        5244.750000\n",
       "            ...     \n",
       "2689    14485.000000\n",
       "2690    14653.049810\n",
       "2691    14864.549810\n",
       "2692    14894.900390\n",
       "2693    14631.099610\n",
       "Name: Close, Length: 2694, dtype: float64"
      ]
     },
     "execution_count": 10,
     "metadata": {},
     "output_type": "execute_result"
    }
   ],
   "source": [
    "df1"
   ]
  },
  {
   "cell_type": "code",
   "execution_count": 11,
   "id": "a33fe82c",
   "metadata": {},
   "outputs": [
    {
     "data": {
      "text/plain": [
       "0"
      ]
     },
     "execution_count": 11,
     "metadata": {},
     "output_type": "execute_result"
    }
   ],
   "source": [
    "df1.isnull().sum()"
   ]
  },
  {
   "cell_type": "code",
   "execution_count": 12,
   "id": "6bb1a781",
   "metadata": {
    "scrolled": true
   },
   "outputs": [
    {
     "data": {
      "text/plain": [
       "[<matplotlib.lines.Line2D at 0x24a511632b0>]"
      ]
     },
     "execution_count": 12,
     "metadata": {},
     "output_type": "execute_result"
    },
    {
     "data": {
      "image/png": "[encoded data removed]",
      "text/plain": [
       "<Figure size 432x288 with 1 Axes>"
      ]
     },
     "metadata": {
      "needs_background": "light"
     },
     "output_type": "display_data"
    }
   ],
   "source": [
    "import matplotlib.pyplot as plt\n",
    "plt.plot(df1)"
   ]
  },
  {
   "cell_type": "code",
   "execution_count": 13,
   "id": "e27c3ff8",
   "metadata": {},
   "outputs": [],
   "source": [
    "### LSTM are sensitive to the scale of the data, so we apply MinMax scaler"
   ]
  },
  {
   "cell_type": "code",
   "execution_count": 14,
   "id": "18e1249e",
   "metadata": {},
   "outputs": [],
   "source": [
    "from sklearn.preprocessing import MinMaxScaler\n",
    "scaler = MinMaxScaler(feature_range=(0,1))\n",
    "df1 = scaler.fit_transform(np.array(df1).reshape(-1,1))"
   ]
  },
  {
   "cell_type": "code",
   "execution_count": 15,
   "id": "270c8669",
   "metadata": {},
   "outputs": [
    {
     "data": {
      "text/plain": [
       "(2694, 1)"
      ]
     },
     "execution_count": 15,
     "metadata": {},
     "output_type": "execute_result"
    }
   ],
   "source": [
    "df1.shape"
   ]
  },
  {
   "cell_type": "code",
   "execution_count": 16,
   "id": "90b15e8f",
   "metadata": {},
   "outputs": [
    {
     "data": {
      "text/plain": [
       "array([[0.06387819],\n",
       "       [0.06812123],\n",
       "       [0.06848332],\n",
       "       ...,\n",
       "       [0.95820525],\n",
       "       [0.96102318],\n",
       "       [0.93653028]])"
      ]
     },
     "execution_count": 16,
     "metadata": {},
     "output_type": "execute_result"
    }
   ],
   "source": [
    "df1"
   ]
  },
  {
   "cell_type": "code",
   "execution_count": 17,
   "id": "fdac4824",
   "metadata": {},
   "outputs": [
    {
     "data": {
      "text/plain": [
       "numpy.ndarray"
      ]
     },
     "execution_count": 17,
     "metadata": {},
     "output_type": "execute_result"
    }
   ],
   "source": [
    "### splitting dataset into train and test split\n",
    "training_size = int(len(df1)*0.8)\n",
    "test_size = len(df1) - training_size\n",
    "train_data,test_data = df1[0:training_size,:],df1[training_size:len(df1),:1]\n",
    "type(test_data)"
   ]
  },
  {
   "cell_type": "code",
   "execution_count": 18,
   "id": "8d04cc4d",
   "metadata": {},
   "outputs": [
    {
     "data": {
      "text/plain": [
       "(2155, 539)"
      ]
     },
     "execution_count": 18,
     "metadata": {},
     "output_type": "execute_result"
    }
   ],
   "source": [
    "training_size,test_size"
   ]
  },
  {
   "cell_type": "code",
   "execution_count": 19,
   "id": "0f4f6d3c",
   "metadata": {},
   "outputs": [],
   "source": [
    "def create_dataset(dataset,time_step=1):\n",
    "    dataX, dataY = [], []\n",
    "    for i in range(len(dataset)-time_step-1):\n",
    "        a = dataset[i:(i+time_step), 0]\n",
    "        dataX.append(a)\n",
    "        dataY.append(dataset[i+time_step,0])\n",
    "    return np.array(dataX), np.array(dataY)"
   ]
  },
  {
   "cell_type": "code",
   "execution_count": 20,
   "id": "44c181fb",
   "metadata": {},
   "outputs": [
    {
     "data": {
      "text/plain": [
       "50"
      ]
     },
     "execution_count": 20,
     "metadata": {},
     "output_type": "execute_result"
    }
   ],
   "source": [
    "### reshape into X=t, t+1, t+2, t+3 and Y=t+4\n",
    "time_step = 50\n",
    "X_train, y_train = create_dataset(train_data, time_step)\n",
    "X_test, y_test = create_dataset(test_data, time_step)\n",
    "len(X_train[0])"
   ]
  },
  {
   "cell_type": "code",
   "execution_count": 21,
   "id": "e9946fce",
   "metadata": {},
   "outputs": [],
   "source": [
    "# reshape input to be [samples, times steps, features] which is required for LSTM\n",
    "X_train = X_train.reshape(X_train.shape[0],X_train.shape[1] , 1)\n",
    "X_test = X_test.reshape(X_test.shape[0],X_test.shape[1] , 1)"
   ]
  },
  {
   "cell_type": "code",
   "execution_count": 22,
   "id": "8885181e",
   "metadata": {},
   "outputs": [],
   "source": [
    "### Create the LSTM model\n",
    "from tensorflow.keras.models import Sequential\n",
    "from tensorflow.keras.layers import Dense\n",
    "from tensorflow.keras.layers import LSTM"
   ]
  },
  {
   "cell_type": "code",
   "execution_count": 23,
   "id": "b4d2368a",
   "metadata": {},
   "outputs": [],
   "source": [
    "model = Sequential()\n",
    "model.add(LSTM(50,return_sequences=True,input_shape=(X_train.shape[1] , 1)))\n",
    "model.add(LSTM(50,return_sequences=True))\n",
    "model.add(LSTM(50))\n",
    "model.add(Dense(1))\n",
    "model.compile(loss='mean_squared_error',optimizer='adam')"
   ]
  },
  {
   "cell_type": "code",
   "execution_count": 24,
   "id": "fe9306c1",
   "metadata": {},
   "outputs": [
    {
     "name": "stdout",
     "output_type": "stream",
     "text": [
      "Model: \"sequential\"\n",
      "_________________________________________________________________\n",
      " Layer (type)                Output Shape              Param #   \n",
      "=================================================================\n",
      " lstm (LSTM)                 (None, 50, 50)            10400     \n",
      "                                                                 \n",
      " lstm_1 (LSTM)               (None, 50, 50)            20200     \n",
      "                                                                 \n",
      " lstm_2 (LSTM)               (None, 50)                20200     \n",
      "                                                                 \n",
      " dense (Dense)               (None, 1)                 51        \n",
      "                                                                 \n",
      "=================================================================\n",
      "Total params: 50,851\n",
      "Trainable params: 50,851\n",
      "Non-trainable params: 0\n",
      "_________________________________________________________________\n"
     ]
    }
   ],
   "source": [
    "model.summary()"
   ]
  },
  {
   "cell_type": "code",
   "execution_count": null,
   "id": "9ba4a167",
   "metadata": {},
   "outputs": [],
   "source": []
  },
  {
   "cell_type": "code",
   "execution_count": 25,
   "id": "b840748f",
   "metadata": {},
   "outputs": [
    {
     "name": "stdout",
     "output_type": "stream",
     "text": [
      "Model: \"sequential_1\"\n",
      "_________________________________________________________________\n",
      " Layer (type)                Output Shape              Param #   \n",
      "=================================================================\n",
      " gru (GRU)                   (None, 50, 50)            7950      \n",
      "                                                                 \n",
      " gru_1 (GRU)                 (None, 50, 50)            15300     \n",
      "                                                                 \n",
      " gru_2 (GRU)                 (None, 50)                15300     \n",
      "                                                                 \n",
      " dense_1 (Dense)             (None, 1)                 51        \n",
      "                                                                 \n",
      "=================================================================\n",
      "Total params: 38,601\n",
      "Trainable params: 38,601\n",
      "Non-trainable params: 0\n",
      "_________________________________________________________________\n"
     ]
    }
   ],
   "source": [
    "from tensorflow.keras.models import Sequential\n",
    "from tensorflow.keras.layers import Dense, GRU\n",
    "\n",
    "model1 = Sequential()\n",
    "model1.add(GRU(50, return_sequences=True, input_shape=(X_train.shape[1], 1)))\n",
    "model1.add(GRU(50, return_sequences=True))\n",
    "model1.add(GRU(50))\n",
    "model1.add(Dense(1))\n",
    "model1.compile(loss='mean_squared_error', optimizer='adam')\n",
    "\n",
    "model1.summary()\n",
    "\n"
   ]
  },
  {
   "cell_type": "code",
   "execution_count": 26,
   "id": "6f4db8d3",
   "metadata": {
    "scrolled": false
   },
   "outputs": [
    {
     "name": "stdout",
     "output_type": "stream",
     "text": [
      "Epoch 1/100\n",
      "33/33 [==============================] - 6s 75ms/step - loss: 0.0152 - val_loss: 8.9311e-04\n",
      "Epoch 2/100\n",
      "33/33 [==============================] - 2s 49ms/step - loss: 3.3607e-04 - val_loss: 9.0840e-04\n",
      "Epoch 3/100\n",
      "33/33 [==============================] - 2s 50ms/step - loss: 1.4729e-04 - val_loss: 8.4984e-04\n",
      "Epoch 4/100\n",
      "33/33 [==============================] - 2s 51ms/step - loss: 1.3274e-04 - val_loss: 8.0044e-04\n",
      "Epoch 5/100\n",
      "33/33 [==============================] - 2s 51ms/step - loss: 1.2754e-04 - val_loss: 7.3247e-04\n",
      "Epoch 6/100\n",
      "33/33 [==============================] - 2s 53ms/step - loss: 1.2308e-04 - val_loss: 6.8476e-04\n",
      "Epoch 7/100\n",
      "33/33 [==============================] - 2s 51ms/step - loss: 1.2492e-04 - val_loss: 6.7635e-04\n",
      "Epoch 8/100\n",
      "33/33 [==============================] - 2s 50ms/step - loss: 1.1772e-04 - val_loss: 6.4880e-04\n",
      "Epoch 9/100\n",
      "33/33 [==============================] - 2s 49ms/step - loss: 1.1509e-04 - val_loss: 5.7634e-04\n",
      "Epoch 10/100\n",
      "33/33 [==============================] - 2s 57ms/step - loss: 1.0767e-04 - val_loss: 5.8790e-04\n",
      "Epoch 11/100\n",
      "33/33 [==============================] - 2s 57ms/step - loss: 1.0337e-04 - val_loss: 5.2862e-04\n",
      "Epoch 12/100\n",
      "33/33 [==============================] - 2s 57ms/step - loss: 9.9718e-05 - val_loss: 5.3918e-04\n",
      "Epoch 13/100\n",
      "33/33 [==============================] - 2s 56ms/step - loss: 9.8021e-05 - val_loss: 5.2670e-04\n",
      "Epoch 14/100\n",
      "33/33 [==============================] - 2s 57ms/step - loss: 9.3137e-05 - val_loss: 4.8052e-04\n",
      "Epoch 15/100\n",
      "33/33 [==============================] - 2s 56ms/step - loss: 9.0856e-05 - val_loss: 5.0390e-04\n",
      "Epoch 16/100\n",
      "33/33 [==============================] - 2s 56ms/step - loss: 9.1407e-05 - val_loss: 4.5001e-04\n",
      "Epoch 17/100\n",
      "33/33 [==============================] - 2s 58ms/step - loss: 8.7799e-05 - val_loss: 4.5964e-04\n",
      "Epoch 18/100\n",
      "33/33 [==============================] - 2s 57ms/step - loss: 8.4593e-05 - val_loss: 4.6022e-04\n",
      "Epoch 19/100\n",
      "33/33 [==============================] - 2s 57ms/step - loss: 8.3130e-05 - val_loss: 4.9197e-04\n",
      "Epoch 20/100\n",
      "33/33 [==============================] - 2s 56ms/step - loss: 7.8859e-05 - val_loss: 3.8789e-04\n",
      "Epoch 21/100\n",
      "33/33 [==============================] - 2s 55ms/step - loss: 8.2403e-05 - val_loss: 4.7682e-04\n",
      "Epoch 22/100\n",
      "33/33 [==============================] - 2s 56ms/step - loss: 7.5713e-05 - val_loss: 3.8122e-04\n",
      "Epoch 23/100\n",
      "33/33 [==============================] - 2s 56ms/step - loss: 7.6965e-05 - val_loss: 3.7515e-04\n",
      "Epoch 24/100\n",
      "33/33 [==============================] - 2s 56ms/step - loss: 7.5774e-05 - val_loss: 4.4216e-04\n",
      "Epoch 25/100\n",
      "33/33 [==============================] - 2s 55ms/step - loss: 7.2676e-05 - val_loss: 3.5577e-04\n",
      "Epoch 26/100\n",
      "33/33 [==============================] - 2s 55ms/step - loss: 6.9117e-05 - val_loss: 4.0616e-04\n",
      "Epoch 27/100\n",
      "33/33 [==============================] - 2s 57ms/step - loss: 7.3624e-05 - val_loss: 3.3072e-04\n",
      "Epoch 28/100\n",
      "33/33 [==============================] - 2s 55ms/step - loss: 7.0761e-05 - val_loss: 3.2409e-04\n",
      "Epoch 29/100\n",
      "33/33 [==============================] - 2s 58ms/step - loss: 7.2776e-05 - val_loss: 3.5936e-04\n",
      "Epoch 30/100\n",
      "33/33 [==============================] - 2s 58ms/step - loss: 6.5543e-05 - val_loss: 3.4495e-04\n",
      "Epoch 31/100\n",
      "33/33 [==============================] - 2s 56ms/step - loss: 6.4800e-05 - val_loss: 3.5447e-04\n",
      "Epoch 32/100\n",
      "33/33 [==============================] - 2s 57ms/step - loss: 6.2331e-05 - val_loss: 3.6455e-04\n",
      "Epoch 33/100\n",
      "33/33 [==============================] - 2s 60ms/step - loss: 6.6526e-05 - val_loss: 2.9688e-04\n",
      "Epoch 34/100\n",
      "33/33 [==============================] - 2s 57ms/step - loss: 6.3972e-05 - val_loss: 3.3998e-04\n",
      "Epoch 35/100\n",
      "33/33 [==============================] - 2s 56ms/step - loss: 6.3411e-05 - val_loss: 3.0017e-04\n",
      "Epoch 36/100\n",
      "33/33 [==============================] - 2s 56ms/step - loss: 6.2371e-05 - val_loss: 3.5990e-04\n",
      "Epoch 37/100\n",
      "33/33 [==============================] - 2s 57ms/step - loss: 5.8529e-05 - val_loss: 3.7403e-04\n",
      "Epoch 38/100\n",
      "33/33 [==============================] - 2s 56ms/step - loss: 5.9286e-05 - val_loss: 2.8061e-04\n",
      "Epoch 39/100\n",
      "33/33 [==============================] - 2s 54ms/step - loss: 5.7873e-05 - val_loss: 3.1360e-04\n",
      "Epoch 40/100\n",
      "33/33 [==============================] - 2s 54ms/step - loss: 6.1415e-05 - val_loss: 3.9094e-04\n",
      "Epoch 41/100\n",
      "33/33 [==============================] - 2s 54ms/step - loss: 5.8535e-05 - val_loss: 2.7605e-04\n",
      "Epoch 42/100\n",
      "33/33 [==============================] - 2s 55ms/step - loss: 5.9833e-05 - val_loss: 3.0309e-04\n",
      "Epoch 43/100\n",
      "33/33 [==============================] - 2s 55ms/step - loss: 6.2284e-05 - val_loss: 3.7489e-04\n",
      "Epoch 44/100\n",
      "33/33 [==============================] - 2s 55ms/step - loss: 5.4526e-05 - val_loss: 3.2948e-04\n",
      "Epoch 45/100\n",
      "33/33 [==============================] - 2s 55ms/step - loss: 5.4727e-05 - val_loss: 2.6535e-04\n",
      "Epoch 46/100\n",
      "33/33 [==============================] - 2s 55ms/step - loss: 5.4654e-05 - val_loss: 3.3288e-04\n",
      "Epoch 47/100\n",
      "33/33 [==============================] - 2s 55ms/step - loss: 5.9777e-05 - val_loss: 2.6818e-04\n",
      "Epoch 48/100\n",
      "33/33 [==============================] - 2s 55ms/step - loss: 6.1355e-05 - val_loss: 3.7258e-04\n",
      "Epoch 49/100\n",
      "33/33 [==============================] - 2s 55ms/step - loss: 5.3001e-05 - val_loss: 3.1233e-04\n",
      "Epoch 50/100\n",
      "33/33 [==============================] - 2s 55ms/step - loss: 6.2263e-05 - val_loss: 2.6709e-04\n",
      "Epoch 51/100\n",
      "33/33 [==============================] - 2s 56ms/step - loss: 5.8550e-05 - val_loss: 3.9983e-04\n",
      "Epoch 52/100\n",
      "33/33 [==============================] - 2s 54ms/step - loss: 5.0056e-05 - val_loss: 2.7037e-04\n",
      "Epoch 53/100\n",
      "33/33 [==============================] - 2s 54ms/step - loss: 4.8741e-05 - val_loss: 2.9092e-04\n",
      "Epoch 54/100\n",
      "33/33 [==============================] - 2s 54ms/step - loss: 4.9336e-05 - val_loss: 2.8967e-04\n",
      "Epoch 55/100\n",
      "33/33 [==============================] - 2s 55ms/step - loss: 4.7970e-05 - val_loss: 2.6554e-04\n",
      "Epoch 56/100\n",
      "33/33 [==============================] - 2s 55ms/step - loss: 4.6729e-05 - val_loss: 2.5487e-04\n",
      "Epoch 57/100\n",
      "33/33 [==============================] - 2s 54ms/step - loss: 4.9546e-05 - val_loss: 2.5525e-04\n",
      "Epoch 58/100\n",
      "33/33 [==============================] - 2s 54ms/step - loss: 4.9767e-05 - val_loss: 2.5252e-04\n",
      "Epoch 59/100\n",
      "33/33 [==============================] - 2s 54ms/step - loss: 5.2036e-05 - val_loss: 2.6890e-04\n",
      "Epoch 60/100\n",
      "33/33 [==============================] - 2s 55ms/step - loss: 5.5751e-05 - val_loss: 2.5776e-04\n",
      "Epoch 61/100\n",
      "33/33 [==============================] - 2s 54ms/step - loss: 4.9463e-05 - val_loss: 2.5083e-04\n",
      "Epoch 62/100\n",
      "33/33 [==============================] - 2s 54ms/step - loss: 4.8331e-05 - val_loss: 2.5791e-04\n",
      "Epoch 63/100\n",
      "33/33 [==============================] - 2s 55ms/step - loss: 4.8388e-05 - val_loss: 2.5316e-04\n",
      "Epoch 64/100\n",
      "33/33 [==============================] - 2s 54ms/step - loss: 4.8972e-05 - val_loss: 3.0062e-04\n",
      "Epoch 65/100\n",
      "33/33 [==============================] - 2s 54ms/step - loss: 4.6883e-05 - val_loss: 2.5793e-04\n",
      "Epoch 66/100\n",
      "33/33 [==============================] - 2s 55ms/step - loss: 5.2183e-05 - val_loss: 2.5222e-04\n",
      "Epoch 67/100\n",
      "33/33 [==============================] - 2s 54ms/step - loss: 4.9068e-05 - val_loss: 3.1315e-04\n",
      "Epoch 68/100\n",
      "33/33 [==============================] - 2s 55ms/step - loss: 5.5697e-05 - val_loss: 2.5389e-04\n",
      "Epoch 69/100\n",
      "33/33 [==============================] - 2s 55ms/step - loss: 4.7415e-05 - val_loss: 2.6137e-04\n",
      "Epoch 70/100\n",
      "33/33 [==============================] - 2s 54ms/step - loss: 5.1336e-05 - val_loss: 2.5409e-04\n",
      "Epoch 71/100\n",
      "33/33 [==============================] - 2s 54ms/step - loss: 4.5180e-05 - val_loss: 2.7497e-04\n",
      "Epoch 72/100\n",
      "33/33 [==============================] - 2s 56ms/step - loss: 4.7316e-05 - val_loss: 2.8503e-04\n",
      "Epoch 73/100\n",
      "33/33 [==============================] - 2s 56ms/step - loss: 8.5448e-05 - val_loss: 2.9346e-04\n",
      "Epoch 74/100\n",
      "33/33 [==============================] - 2s 54ms/step - loss: 9.8484e-05 - val_loss: 2.8728e-04\n",
      "Epoch 75/100\n",
      "33/33 [==============================] - 2s 55ms/step - loss: 4.5489e-05 - val_loss: 2.5842e-04\n",
      "Epoch 76/100\n"
     ]
    },
    {
     "name": "stdout",
     "output_type": "stream",
     "text": [
      "33/33 [==============================] - 2s 54ms/step - loss: 4.5570e-05 - val_loss: 2.7106e-04\n",
      "Epoch 77/100\n",
      "33/33 [==============================] - 2s 55ms/step - loss: 4.7886e-05 - val_loss: 3.1652e-04\n",
      "Epoch 78/100\n",
      "33/33 [==============================] - 2s 54ms/step - loss: 4.6582e-05 - val_loss: 3.8553e-04\n",
      "Epoch 79/100\n",
      "33/33 [==============================] - 2s 54ms/step - loss: 5.1661e-05 - val_loss: 3.0764e-04\n",
      "Epoch 80/100\n",
      "33/33 [==============================] - 2s 55ms/step - loss: 4.7101e-05 - val_loss: 3.3569e-04\n",
      "Epoch 81/100\n",
      "33/33 [==============================] - 2s 54ms/step - loss: 4.4389e-05 - val_loss: 2.8493e-04\n",
      "Epoch 82/100\n",
      "33/33 [==============================] - 2s 55ms/step - loss: 4.7748e-05 - val_loss: 3.3270e-04\n",
      "Epoch 83/100\n",
      "33/33 [==============================] - 2s 55ms/step - loss: 5.1620e-05 - val_loss: 3.1058e-04\n",
      "Epoch 84/100\n",
      "33/33 [==============================] - 2s 55ms/step - loss: 4.3617e-05 - val_loss: 2.6401e-04\n",
      "Epoch 85/100\n",
      "33/33 [==============================] - 2s 55ms/step - loss: 6.2938e-05 - val_loss: 2.7105e-04\n",
      "Epoch 86/100\n",
      "33/33 [==============================] - 2s 55ms/step - loss: 6.7143e-05 - val_loss: 2.6149e-04\n",
      "Epoch 87/100\n",
      "33/33 [==============================] - 2s 55ms/step - loss: 4.4288e-05 - val_loss: 2.8090e-04\n",
      "Epoch 88/100\n",
      "33/33 [==============================] - 2s 55ms/step - loss: 4.3790e-05 - val_loss: 2.7131e-04\n",
      "Epoch 89/100\n",
      "33/33 [==============================] - 2s 55ms/step - loss: 4.5304e-05 - val_loss: 2.6138e-04\n",
      "Epoch 90/100\n",
      "33/33 [==============================] - 2s 55ms/step - loss: 4.5503e-05 - val_loss: 2.6475e-04\n",
      "Epoch 91/100\n",
      "33/33 [==============================] - 2s 55ms/step - loss: 4.7089e-05 - val_loss: 3.8657e-04\n",
      "Epoch 92/100\n",
      "33/33 [==============================] - 2s 55ms/step - loss: 5.2190e-05 - val_loss: 2.8655e-04\n",
      "Epoch 93/100\n",
      "33/33 [==============================] - 2s 55ms/step - loss: 5.4689e-05 - val_loss: 2.9368e-04\n",
      "Epoch 94/100\n",
      "33/33 [==============================] - 2s 54ms/step - loss: 5.9219e-05 - val_loss: 2.7252e-04\n",
      "Epoch 95/100\n",
      "33/33 [==============================] - 2s 55ms/step - loss: 4.6125e-05 - val_loss: 2.7566e-04\n",
      "Epoch 96/100\n",
      "33/33 [==============================] - 2s 55ms/step - loss: 4.8430e-05 - val_loss: 4.7520e-04\n",
      "Epoch 97/100\n",
      "33/33 [==============================] - 2s 55ms/step - loss: 4.7917e-05 - val_loss: 2.6852e-04\n",
      "Epoch 98/100\n",
      "33/33 [==============================] - 2s 55ms/step - loss: 4.6137e-05 - val_loss: 2.6357e-04\n",
      "Epoch 99/100\n",
      "33/33 [==============================] - 2s 55ms/step - loss: 4.9069e-05 - val_loss: 2.6489e-04\n",
      "Epoch 100/100\n",
      "33/33 [==============================] - 2s 55ms/step - loss: 5.0366e-05 - val_loss: 2.8487e-04\n"
     ]
    },
    {
     "data": {
      "text/plain": [
       "<keras.callbacks.History at 0x24a60fc4610>"
      ]
     },
     "execution_count": 26,
     "metadata": {},
     "output_type": "execute_result"
    }
   ],
   "source": [
    "model1.fit(X_train,y_train,validation_data=(X_test,y_test), epochs=100,batch_size=64,verbose=1)"
   ]
  },
  {
   "cell_type": "code",
   "execution_count": 27,
   "id": "8c63b75f",
   "metadata": {
    "scrolled": false
   },
   "outputs": [
    {
     "name": "stdout",
     "output_type": "stream",
     "text": [
      "Epoch 1/100\n",
      "33/33 [==============================] - 7s 96ms/step - loss: 0.0119 - val_loss: 0.0083\n",
      "Epoch 2/100\n",
      "33/33 [==============================] - 2s 69ms/step - loss: 5.9120e-04 - val_loss: 0.0030\n",
      "Epoch 3/100\n",
      "33/33 [==============================] - 2s 71ms/step - loss: 3.9258e-04 - val_loss: 0.0028\n",
      "Epoch 4/100\n",
      "33/33 [==============================] - 2s 70ms/step - loss: 3.7870e-04 - val_loss: 0.0032\n",
      "Epoch 5/100\n",
      "33/33 [==============================] - 2s 70ms/step - loss: 3.7191e-04 - val_loss: 0.0028\n",
      "Epoch 6/100\n",
      "33/33 [==============================] - 2s 70ms/step - loss: 3.6640e-04 - val_loss: 0.0025\n",
      "Epoch 7/100\n",
      "33/33 [==============================] - 2s 69ms/step - loss: 3.5602e-04 - val_loss: 0.0025\n",
      "Epoch 8/100\n",
      "33/33 [==============================] - 2s 69ms/step - loss: 3.4207e-04 - val_loss: 0.0027\n",
      "Epoch 9/100\n",
      "33/33 [==============================] - 2s 70ms/step - loss: 3.3957e-04 - val_loss: 0.0022\n",
      "Epoch 10/100\n",
      "33/33 [==============================] - 2s 70ms/step - loss: 3.2232e-04 - val_loss: 0.0024\n",
      "Epoch 11/100\n",
      "33/33 [==============================] - 2s 69ms/step - loss: 3.1047e-04 - val_loss: 0.0019\n",
      "Epoch 12/100\n",
      "33/33 [==============================] - 2s 69ms/step - loss: 3.0684e-04 - val_loss: 0.0017\n",
      "Epoch 13/100\n",
      "33/33 [==============================] - 2s 69ms/step - loss: 3.0135e-04 - val_loss: 0.0018\n",
      "Epoch 14/100\n",
      "33/33 [==============================] - 2s 70ms/step - loss: 2.7416e-04 - val_loss: 0.0016\n",
      "Epoch 15/100\n",
      "33/33 [==============================] - 2s 69ms/step - loss: 2.5939e-04 - val_loss: 0.0014\n",
      "Epoch 16/100\n",
      "33/33 [==============================] - 2s 71ms/step - loss: 2.9060e-04 - val_loss: 0.0018\n",
      "Epoch 17/100\n",
      "33/33 [==============================] - 3s 77ms/step - loss: 2.5129e-04 - val_loss: 0.0014\n",
      "Epoch 18/100\n",
      "33/33 [==============================] - 2s 72ms/step - loss: 2.3923e-04 - val_loss: 0.0013\n",
      "Epoch 19/100\n",
      "33/33 [==============================] - 2s 70ms/step - loss: 2.2304e-04 - val_loss: 0.0012\n",
      "Epoch 20/100\n",
      "33/33 [==============================] - 2s 69ms/step - loss: 2.2375e-04 - val_loss: 0.0013\n",
      "Epoch 21/100\n",
      "33/33 [==============================] - 2s 69ms/step - loss: 2.1356e-04 - val_loss: 0.0012\n",
      "Epoch 22/100\n",
      "33/33 [==============================] - 2s 69ms/step - loss: 2.1614e-04 - val_loss: 0.0010\n",
      "Epoch 23/100\n",
      "33/33 [==============================] - 2s 69ms/step - loss: 2.0779e-04 - val_loss: 0.0011\n",
      "Epoch 24/100\n",
      "33/33 [==============================] - 2s 70ms/step - loss: 1.9717e-04 - val_loss: 0.0010\n",
      "Epoch 25/100\n",
      "33/33 [==============================] - 2s 69ms/step - loss: 1.9747e-04 - val_loss: 9.9962e-04\n",
      "Epoch 26/100\n",
      "33/33 [==============================] - 2s 69ms/step - loss: 1.9607e-04 - val_loss: 0.0010\n",
      "Epoch 27/100\n",
      "33/33 [==============================] - 2s 69ms/step - loss: 1.9807e-04 - val_loss: 9.8911e-04\n",
      "Epoch 28/100\n",
      "33/33 [==============================] - 2s 69ms/step - loss: 2.1837e-04 - val_loss: 0.0014\n",
      "Epoch 29/100\n",
      "33/33 [==============================] - 2s 72ms/step - loss: 2.2677e-04 - val_loss: 0.0014\n",
      "Epoch 30/100\n",
      "33/33 [==============================] - 2s 70ms/step - loss: 1.9090e-04 - val_loss: 0.0010\n",
      "Epoch 31/100\n",
      "33/33 [==============================] - 2s 68ms/step - loss: 1.6919e-04 - val_loss: 7.9525e-04\n",
      "Epoch 32/100\n",
      "33/33 [==============================] - 2s 69ms/step - loss: 1.6324e-04 - val_loss: 8.7699e-04\n",
      "Epoch 33/100\n",
      "33/33 [==============================] - 2s 69ms/step - loss: 1.5938e-04 - val_loss: 8.6746e-04\n",
      "Epoch 34/100\n",
      "33/33 [==============================] - 2s 69ms/step - loss: 1.7683e-04 - val_loss: 9.3975e-04\n",
      "Epoch 35/100\n",
      "33/33 [==============================] - 2s 69ms/step - loss: 1.6087e-04 - val_loss: 7.4777e-04\n",
      "Epoch 36/100\n",
      "33/33 [==============================] - 2s 69ms/step - loss: 1.6616e-04 - val_loss: 6.8214e-04\n",
      "Epoch 37/100\n",
      "33/33 [==============================] - 2s 70ms/step - loss: 1.5977e-04 - val_loss: 9.4452e-04\n",
      "Epoch 38/100\n",
      "33/33 [==============================] - 2s 69ms/step - loss: 1.4039e-04 - val_loss: 6.3886e-04\n",
      "Epoch 39/100\n",
      "33/33 [==============================] - 2s 69ms/step - loss: 1.4477e-04 - val_loss: 0.0012\n",
      "Epoch 40/100\n",
      "33/33 [==============================] - 2s 73ms/step - loss: 1.4934e-04 - val_loss: 7.6198e-04\n",
      "Epoch 41/100\n",
      "33/33 [==============================] - 2s 70ms/step - loss: 1.3474e-04 - val_loss: 8.2086e-04\n",
      "Epoch 42/100\n",
      "33/33 [==============================] - 2s 69ms/step - loss: 1.4978e-04 - val_loss: 7.4407e-04\n",
      "Epoch 43/100\n",
      "33/33 [==============================] - 2s 69ms/step - loss: 1.4682e-04 - val_loss: 7.0543e-04\n",
      "Epoch 44/100\n",
      "33/33 [==============================] - 2s 69ms/step - loss: 1.2472e-04 - val_loss: 5.7546e-04\n",
      "Epoch 45/100\n",
      "33/33 [==============================] - 2s 69ms/step - loss: 1.2551e-04 - val_loss: 6.4500e-04\n",
      "Epoch 46/100\n",
      "33/33 [==============================] - 2s 69ms/step - loss: 1.2889e-04 - val_loss: 6.0688e-04\n",
      "Epoch 47/100\n",
      "33/33 [==============================] - 2s 69ms/step - loss: 1.1972e-04 - val_loss: 7.9248e-04\n",
      "Epoch 48/100\n",
      "33/33 [==============================] - 2s 69ms/step - loss: 1.3832e-04 - val_loss: 5.2239e-04\n",
      "Epoch 49/100\n",
      "33/33 [==============================] - 2s 68ms/step - loss: 1.1268e-04 - val_loss: 4.8138e-04\n",
      "Epoch 50/100\n",
      "33/33 [==============================] - 2s 69ms/step - loss: 1.1058e-04 - val_loss: 5.2617e-04\n",
      "Epoch 51/100\n",
      "33/33 [==============================] - 2s 69ms/step - loss: 1.1202e-04 - val_loss: 5.4205e-04\n",
      "Epoch 52/100\n",
      "33/33 [==============================] - 2s 69ms/step - loss: 9.9593e-05 - val_loss: 4.1994e-04\n",
      "Epoch 53/100\n",
      "33/33 [==============================] - 2s 70ms/step - loss: 9.8068e-05 - val_loss: 4.1394e-04\n",
      "Epoch 54/100\n",
      "33/33 [==============================] - 3s 82ms/step - loss: 9.6462e-05 - val_loss: 3.9677e-04\n",
      "Epoch 55/100\n",
      "33/33 [==============================] - 2s 70ms/step - loss: 1.0438e-04 - val_loss: 4.0484e-04\n",
      "Epoch 56/100\n",
      "33/33 [==============================] - 2s 69ms/step - loss: 9.7884e-05 - val_loss: 4.4021e-04\n",
      "Epoch 57/100\n",
      "33/33 [==============================] - 2s 69ms/step - loss: 9.4958e-05 - val_loss: 4.5336e-04\n",
      "Epoch 58/100\n",
      "33/33 [==============================] - 2s 69ms/step - loss: 9.4375e-05 - val_loss: 6.3794e-04\n",
      "Epoch 59/100\n",
      "33/33 [==============================] - 2s 69ms/step - loss: 9.0889e-05 - val_loss: 3.8439e-04\n",
      "Epoch 60/100\n",
      "33/33 [==============================] - 2s 68ms/step - loss: 8.5131e-05 - val_loss: 5.0090e-04\n",
      "Epoch 61/100\n",
      "33/33 [==============================] - 2s 69ms/step - loss: 9.7518e-05 - val_loss: 3.8371e-04\n",
      "Epoch 62/100\n",
      "33/33 [==============================] - 2s 70ms/step - loss: 8.5885e-05 - val_loss: 3.5487e-04\n",
      "Epoch 63/100\n",
      "33/33 [==============================] - 2s 70ms/step - loss: 7.7465e-05 - val_loss: 4.3071e-04\n",
      "Epoch 64/100\n",
      "33/33 [==============================] - 2s 69ms/step - loss: 7.4630e-05 - val_loss: 3.2915e-04\n",
      "Epoch 65/100\n",
      "33/33 [==============================] - 2s 69ms/step - loss: 9.7439e-05 - val_loss: 3.7920e-04\n",
      "Epoch 66/100\n",
      "33/33 [==============================] - 2s 69ms/step - loss: 8.7413e-05 - val_loss: 3.3824e-04\n",
      "Epoch 67/100\n",
      "33/33 [==============================] - 2s 69ms/step - loss: 7.8022e-05 - val_loss: 4.5676e-04\n",
      "Epoch 68/100\n",
      "33/33 [==============================] - 2s 70ms/step - loss: 6.9570e-05 - val_loss: 3.2177e-04\n",
      "Epoch 69/100\n",
      "33/33 [==============================] - 2s 69ms/step - loss: 7.6711e-05 - val_loss: 5.7584e-04\n",
      "Epoch 70/100\n",
      "33/33 [==============================] - 2s 69ms/step - loss: 6.9166e-05 - val_loss: 4.7124e-04\n",
      "Epoch 71/100\n",
      "33/33 [==============================] - 2s 69ms/step - loss: 7.7219e-05 - val_loss: 3.8517e-04\n",
      "Epoch 72/100\n",
      "33/33 [==============================] - 2s 69ms/step - loss: 6.6599e-05 - val_loss: 3.6812e-04\n",
      "Epoch 73/100\n",
      "33/33 [==============================] - 2s 68ms/step - loss: 7.1404e-05 - val_loss: 2.9950e-04\n",
      "Epoch 74/100\n",
      "33/33 [==============================] - 2s 69ms/step - loss: 7.9869e-05 - val_loss: 3.1988e-04\n",
      "Epoch 75/100\n",
      "33/33 [==============================] - 2s 69ms/step - loss: 7.8671e-05 - val_loss: 3.1332e-04\n",
      "Epoch 76/100\n",
      "33/33 [==============================] - 2s 69ms/step - loss: 6.5969e-05 - val_loss: 3.2155e-04\n",
      "Epoch 77/100\n"
     ]
    },
    {
     "name": "stdout",
     "output_type": "stream",
     "text": [
      "33/33 [==============================] - 2s 68ms/step - loss: 7.8516e-05 - val_loss: 2.9888e-04\n",
      "Epoch 78/100\n",
      "33/33 [==============================] - 2s 68ms/step - loss: 8.3070e-05 - val_loss: 5.4735e-04\n",
      "Epoch 79/100\n",
      "33/33 [==============================] - 2s 69ms/step - loss: 6.3984e-05 - val_loss: 3.4746e-04\n",
      "Epoch 80/100\n",
      "33/33 [==============================] - 2s 68ms/step - loss: 5.9843e-05 - val_loss: 3.5140e-04\n",
      "Epoch 81/100\n",
      "33/33 [==============================] - 2s 69ms/step - loss: 6.4440e-05 - val_loss: 4.7653e-04\n",
      "Epoch 82/100\n",
      "33/33 [==============================] - 2s 71ms/step - loss: 6.0049e-05 - val_loss: 2.8794e-04\n",
      "Epoch 83/100\n",
      "33/33 [==============================] - 2s 68ms/step - loss: 5.9587e-05 - val_loss: 2.7616e-04\n",
      "Epoch 84/100\n",
      "33/33 [==============================] - 2s 68ms/step - loss: 5.7761e-05 - val_loss: 2.8096e-04\n",
      "Epoch 85/100\n",
      "33/33 [==============================] - 2s 69ms/step - loss: 6.0563e-05 - val_loss: 2.7953e-04\n",
      "Epoch 86/100\n",
      "33/33 [==============================] - 2s 69ms/step - loss: 7.9548e-05 - val_loss: 3.0455e-04\n",
      "Epoch 87/100\n",
      "33/33 [==============================] - 2s 68ms/step - loss: 5.7068e-05 - val_loss: 3.2005e-04\n",
      "Epoch 88/100\n",
      "33/33 [==============================] - 2s 73ms/step - loss: 5.8424e-05 - val_loss: 3.8023e-04\n",
      "Epoch 89/100\n",
      "33/33 [==============================] - 2s 75ms/step - loss: 5.6224e-05 - val_loss: 4.6561e-04\n",
      "Epoch 90/100\n",
      "33/33 [==============================] - 2s 74ms/step - loss: 5.6603e-05 - val_loss: 2.7449e-04\n",
      "Epoch 91/100\n",
      "33/33 [==============================] - 2s 73ms/step - loss: 5.9583e-05 - val_loss: 4.2472e-04\n",
      "Epoch 92/100\n",
      "33/33 [==============================] - 2s 71ms/step - loss: 5.7795e-05 - val_loss: 2.8601e-04\n",
      "Epoch 93/100\n",
      "33/33 [==============================] - 2s 73ms/step - loss: 7.5002e-05 - val_loss: 4.8332e-04\n",
      "Epoch 94/100\n",
      "33/33 [==============================] - 2s 72ms/step - loss: 7.0254e-05 - val_loss: 4.0743e-04\n",
      "Epoch 95/100\n",
      "33/33 [==============================] - 2s 70ms/step - loss: 5.7082e-05 - val_loss: 2.7370e-04\n",
      "Epoch 96/100\n",
      "33/33 [==============================] - 2s 70ms/step - loss: 5.7854e-05 - val_loss: 2.8923e-04\n",
      "Epoch 97/100\n",
      "33/33 [==============================] - 2s 70ms/step - loss: 5.1377e-05 - val_loss: 3.3541e-04\n",
      "Epoch 98/100\n",
      "33/33 [==============================] - 2s 70ms/step - loss: 5.8127e-05 - val_loss: 3.3763e-04\n",
      "Epoch 99/100\n",
      "33/33 [==============================] - 2s 69ms/step - loss: 5.1805e-05 - val_loss: 3.8086e-04\n",
      "Epoch 100/100\n",
      "33/33 [==============================] - 2s 70ms/step - loss: 5.3687e-05 - val_loss: 2.6773e-04\n"
     ]
    },
    {
     "data": {
      "text/plain": [
       "<keras.callbacks.History at 0x24a69bb8ca0>"
      ]
     },
     "execution_count": 27,
     "metadata": {},
     "output_type": "execute_result"
    }
   ],
   "source": [
    "model.fit(X_train,y_train,validation_data=(X_test,y_test), epochs=100,batch_size=64,verbose=1)"
   ]
  },
  {
   "cell_type": "code",
   "execution_count": 28,
   "id": "84318ac7",
   "metadata": {},
   "outputs": [],
   "source": [
    "import tensorflow as tf"
   ]
  },
  {
   "cell_type": "code",
   "execution_count": 29,
   "id": "e9ce029c",
   "metadata": {},
   "outputs": [
    {
     "data": {
      "text/plain": [
       "'2.9.1'"
      ]
     },
     "execution_count": 29,
     "metadata": {},
     "output_type": "execute_result"
    }
   ],
   "source": [
    "tf.__version__"
   ]
  },
  {
   "cell_type": "code",
   "execution_count": 54,
   "id": "c77f3f98",
   "metadata": {},
   "outputs": [],
   "source": [
    "from keras.models import load_model\n",
    "\n",
    "# Assuming you have a trained model called 'model'\n",
    "model.save('lstm_model.h5')\n"
   ]
  },
  {
   "cell_type": "code",
   "execution_count": 55,
   "id": "3ab8527a",
   "metadata": {},
   "outputs": [],
   "source": [
    "model1.save('gru_model.h5')"
   ]
  },
  {
   "cell_type": "code",
   "execution_count": 57,
   "id": "6f966715",
   "metadata": {},
   "outputs": [],
   "source": [
    "model = load_model('gru_model.h5')"
   ]
  },
  {
   "cell_type": "code",
   "execution_count": null,
   "id": "449c7179",
   "metadata": {},
   "outputs": [],
   "source": []
  },
  {
   "cell_type": "code",
   "execution_count": 58,
   "id": "97219464",
   "metadata": {},
   "outputs": [
    {
     "name": "stdout",
     "output_type": "stream",
     "text": [
      "66/66 [==============================] - 2s 12ms/step\n",
      "16/16 [==============================] - 0s 12ms/step\n"
     ]
    }
   ],
   "source": [
    "### Let's do prediction and check performance metrics\n",
    "train_predict = model.predict(X_train)\n",
    "test_predict = model.predict(X_test)"
   ]
  },
  {
   "cell_type": "code",
   "execution_count": 59,
   "id": "eae51fad",
   "metadata": {},
   "outputs": [],
   "source": [
    "### Transform back to originalform\n",
    "train_predict = scaler.inverse_transform(train_predict)\n",
    "test_predict = scaler.inverse_transform(test_predict)"
   ]
  },
  {
   "cell_type": "code",
   "execution_count": 60,
   "id": "78a84cd6",
   "metadata": {},
   "outputs": [
    {
     "data": {
      "text/plain": [
       "7658.3566635546"
      ]
     },
     "execution_count": 60,
     "metadata": {},
     "output_type": "execute_result"
    }
   ],
   "source": [
    "### Calculate RMSE performance metrics\n",
    "import math\n",
    "import sklearn\n",
    "from sklearn.metrics import mean_squared_error\n",
    "math.sqrt(mean_squared_error(y_train,train_predict))\n",
    "# 7706.4050090478995"
   ]
  },
  {
   "cell_type": "code",
   "execution_count": 61,
   "id": "a3fbaeed",
   "metadata": {},
   "outputs": [
    {
     "data": {
      "text/plain": [
       "11918.651568274785"
      ]
     },
     "execution_count": 61,
     "metadata": {},
     "output_type": "execute_result"
    }
   ],
   "source": [
    "### Test Data RMSE\n",
    "math.sqrt(mean_squared_error(y_test,test_predict))\n",
    "# 11907.724656986786"
   ]
  },
  {
   "cell_type": "code",
   "execution_count": 62,
   "id": "379b3a7c",
   "metadata": {},
   "outputs": [
    {
     "data": {
      "image/png": "[encoded data removed]",
      "text/plain": [
       "<Figure size 432x288 with 1 Axes>"
      ]
     },
     "metadata": {
      "needs_background": "light"
     },
     "output_type": "display_data"
    }
   ],
   "source": [
    "### Plotting \n",
    "# shift train predictions for plotting\n",
    "import numpy\n",
    "look_back = 50\n",
    "trainPredictPlot = np.empty_like(df1)\n",
    "trainPredictPlot[:,:] = np.nan\n",
    "trainPredictPlot[look_back:len(train_predict)+look_back, :] = train_predict\n",
    "# shift test predictions for plotting\n",
    "testPredictPlot = numpy.empty_like(df1)\n",
    "testPredictPlot[:,:] = numpy.nan\n",
    "testPredictPlot[len(train_predict)+(look_back*2)+1:len(df1)-1, :] = test_predict\n",
    "# plot baseline and predictions\n",
    "plt.plot(scaler.inverse_transform(df1))\n",
    "plt.plot(trainPredictPlot)\n",
    "plt.plot(testPredictPlot)\n",
    "plt.show()"
   ]
  },
  {
   "cell_type": "code",
   "execution_count": 63,
   "id": "ae98c7dc",
   "metadata": {},
   "outputs": [
    {
     "data": {
      "text/plain": [
       "(1, 50)"
      ]
     },
     "execution_count": 63,
     "metadata": {},
     "output_type": "execute_result"
    }
   ],
   "source": [
    "x_input = test_data[len(test_data)-look_back:].reshape(1,-1)\n",
    "x_input.shape"
   ]
  },
  {
   "cell_type": "code",
   "execution_count": 64,
   "id": "8ea24fa6",
   "metadata": {},
   "outputs": [],
   "source": [
    "temp_input = list(x_input)\n",
    "temp_input = temp_input[0].tolist()"
   ]
  },
  {
   "cell_type": "code",
   "execution_count": 65,
   "id": "c3829109",
   "metadata": {},
   "outputs": [
    {
     "name": "stdout",
     "output_type": "stream",
     "text": [
      "1 day input [0.98594305 1.         0.99988394 0.99017689 0.98182536 0.9436516\n",
      " 0.96911005 0.97981982 0.92706469 0.94864209 0.96326999 0.99358427\n",
      " 0.97827861 0.96503407 0.96671464 0.97991738 0.98701078 0.97365489\n",
      " 0.96423563 0.96246692 0.94490503 0.9297293  0.94701265 0.94630706\n",
      " 0.95358152 0.92894482 0.90810085 0.92503594 0.95639937 0.94206397\n",
      " 0.9584652  0.93715237 0.94139546 0.95398074 0.95906407 0.9554477\n",
      " 0.90679166 0.92480383 0.93192052 0.93530007 0.91130867 0.90545473\n",
      " 0.9156446  0.9096281  0.92296549 0.93856828 0.95820525 0.96102318\n",
      " 0.93653028 0.92011517]\n",
      "1 day output [[0.9075772]]\n",
      "[[0.9201151728630066], [0.9075772166252136]]\n"
     ]
    }
   ],
   "source": [
    "# demonstrate prediction for next 10 days\n",
    "from numpy import array\n",
    "\n",
    "lst_output=[]\n",
    "n_steps=look_back\n",
    "i=0\n",
    "while(i<2):\n",
    "    \n",
    "    if(len(temp_input)>n_steps):\n",
    "        #print(temp_input)\n",
    "        x_input=np.array(temp_input[1:])\n",
    "        print(\"{} day input {}\".format(i,x_input))\n",
    "        x_input=x_input.reshape(1,-1)\n",
    "        x_input = x_input.reshape((1, n_steps, 1))\n",
    "        #print(x_input)\n",
    "        yhat = model.predict(x_input, verbose=0)\n",
    "        print(\"{} day output {}\".format(i,yhat))\n",
    "        temp_input.extend(yhat[0].tolist())\n",
    "        temp_input=temp_input[1:]\n",
    "        #print(temp_input)\n",
    "        lst_output.extend(yhat.tolist())\n",
    "        i=i+1\n",
    "    else:\n",
    "        x_input = x_input.reshape((1, n_steps,1))\n",
    "        yhat = model.predict(x_input, verbose=0)\n",
    "#         print(yhat[0])\n",
    "        temp_input.extend(yhat[0].tolist())\n",
    "#         print(len(temp_input))\n",
    "        lst_output.extend(yhat.tolist())\n",
    "        i=i+1\n",
    "    \n",
    "\n",
    "print(lst_output)"
   ]
  },
  {
   "cell_type": "code",
   "execution_count": 66,
   "id": "d9d699d5",
   "metadata": {},
   "outputs": [],
   "source": [
    "day_new = np.arange(1,look_back+1)\n",
    "day_pred = np.arange(look_back+1,look_back+3)"
   ]
  },
  {
   "cell_type": "code",
   "execution_count": 67,
   "id": "d8f18609",
   "metadata": {},
   "outputs": [],
   "source": [
    "import matplotlib.pyplot as plt"
   ]
  },
  {
   "cell_type": "code",
   "execution_count": 68,
   "id": "d4936c1e",
   "metadata": {},
   "outputs": [
    {
     "data": {
      "text/plain": [
       "2694"
      ]
     },
     "execution_count": 68,
     "metadata": {},
     "output_type": "execute_result"
    }
   ],
   "source": [
    "len(df1)"
   ]
  },
  {
   "cell_type": "code",
   "execution_count": 69,
   "id": "e007b642",
   "metadata": {},
   "outputs": [],
   "source": [
    "df3 = df1.tolist()\n",
    "df3.extend(lst_output)"
   ]
  },
  {
   "cell_type": "code",
   "execution_count": 70,
   "id": "73c985f6",
   "metadata": {},
   "outputs": [
    {
     "data": {
      "text/plain": [
       "[<matplotlib.lines.Line2D at 0x24a74c80e20>]"
      ]
     },
     "execution_count": 70,
     "metadata": {},
     "output_type": "execute_result"
    },
    {
     "data": {
      "image/png": "[encoded data removed]",
      "text/plain": [
       "<Figure size 432x288 with 1 Axes>"
      ]
     },
     "metadata": {
      "needs_background": "light"
     },
     "output_type": "display_data"
    }
   ],
   "source": [
    "plt.plot(day_new,scaler.inverse_transform(df1[len(df1)-look_back:]))\n",
    "plt.plot(day_pred,scaler.inverse_transform(lst_output))"
   ]
  },
  {
   "cell_type": "code",
   "execution_count": 71,
   "id": "f33a55a8",
   "metadata": {},
   "outputs": [],
   "source": [
    "df3=scaler.inverse_transform(df3).tolist()"
   ]
  },
  {
   "cell_type": "code",
   "execution_count": 72,
   "id": "42c926c3",
   "metadata": {},
   "outputs": [
    {
     "data": {
      "text/plain": [
       "[<matplotlib.lines.Line2D at 0x24a75d9e6d0>]"
      ]
     },
     "execution_count": 72,
     "metadata": {},
     "output_type": "execute_result"
    },
    {
     "data": {
      "image/png": "[encoded data removed]",
      "text/plain": [
       "<Figure size 432x288 with 1 Axes>"
      ]
     },
     "metadata": {
      "needs_background": "light"
     },
     "output_type": "display_data"
    }
   ],
   "source": [
    "plt.plot(df3)"
   ]
  },
  {
   "cell_type": "code",
   "execution_count": 73,
   "id": "8a918bc0",
   "metadata": {},
   "outputs": [
    {
     "data": {
      "text/plain": [
       "[14319.260611199748]"
      ]
     },
     "execution_count": 73,
     "metadata": {},
     "output_type": "execute_result"
    }
   ],
   "source": [
    "df3[-1]\n",
    "# 13928.127078225842"
   ]
  },
  {
   "cell_type": "code",
   "execution_count": 74,
   "id": "ae60ba20",
   "metadata": {},
   "outputs": [
    {
     "data": {
      "text/plain": [
       "[14454.300668921587]"
      ]
     },
     "execution_count": 74,
     "metadata": {},
     "output_type": "execute_result"
    }
   ],
   "source": [
    "df3[-2]\n",
    "# 14289.528328010954"
   ]
  },
  {
   "cell_type": "code",
   "execution_count": 75,
   "id": "096a5fb3",
   "metadata": {},
   "outputs": [
    {
     "data": {
      "text/plain": [
       "[14631.09961]"
      ]
     },
     "execution_count": 75,
     "metadata": {},
     "output_type": "execute_result"
    }
   ],
   "source": [
    "df3[-3]"
   ]
  },
  {
   "cell_type": "code",
   "execution_count": 76,
   "id": "48dfd040",
   "metadata": {
    "scrolled": true
   },
   "outputs": [
    {
     "data": {
      "text/plain": [
       "[14894.90039]"
      ]
     },
     "execution_count": 76,
     "metadata": {},
     "output_type": "execute_result"
    }
   ],
   "source": [
    "df3[-4]"
   ]
  },
  {
   "cell_type": "code",
   "execution_count": 77,
   "id": "4a792c84",
   "metadata": {},
   "outputs": [
    {
     "data": {
      "text/plain": [
       "[14864.54981]"
      ]
     },
     "execution_count": 77,
     "metadata": {},
     "output_type": "execute_result"
    }
   ],
   "source": [
    "df3[-5]"
   ]
  },
  {
   "cell_type": "code",
   "execution_count": 78,
   "id": "96ea502f",
   "metadata": {},
   "outputs": [
    {
     "data": {
      "text/plain": [
       "[14653.049809999999]"
      ]
     },
     "execution_count": 78,
     "metadata": {},
     "output_type": "execute_result"
    }
   ],
   "source": [
    "df3[-6]"
   ]
  },
  {
   "cell_type": "code",
   "execution_count": 79,
   "id": "445a3934",
   "metadata": {},
   "outputs": [
    {
     "data": {
      "text/html": [
       "<div>\n",
       "<style scoped>\n",
       "    .dataframe tbody tr th:only-of-type {\n",
       "        vertical-align: middle;\n",
       "    }\n",
       "\n",
       "    .dataframe tbody tr th {\n",
       "        vertical-align: top;\n",
       "    }\n",
       "\n",
       "    .dataframe thead th {\n",
       "        text-align: right;\n",
       "    }\n",
       "</style>\n",
       "<table border=\"1\" class=\"dataframe\">\n",
       "  <thead>\n",
       "    <tr style=\"text-align: right;\">\n",
       "      <th></th>\n",
       "      <th>Date</th>\n",
       "      <th>Open</th>\n",
       "      <th>High</th>\n",
       "      <th>Low</th>\n",
       "      <th>Close</th>\n",
       "      <th>Adj Close</th>\n",
       "      <th>Volume</th>\n",
       "    </tr>\n",
       "  </thead>\n",
       "  <tbody>\n",
       "    <tr>\n",
       "      <th>2689</th>\n",
       "      <td>2021-04-26</td>\n",
       "      <td>14449.45020</td>\n",
       "      <td>14557.50000</td>\n",
       "      <td>14421.29981</td>\n",
       "      <td>14485.00000</td>\n",
       "      <td>14485.00000</td>\n",
       "      <td>452700.0</td>\n",
       "    </tr>\n",
       "    <tr>\n",
       "      <th>2690</th>\n",
       "      <td>2021-04-27</td>\n",
       "      <td>14493.79981</td>\n",
       "      <td>14667.54981</td>\n",
       "      <td>14484.84961</td>\n",
       "      <td>14653.04981</td>\n",
       "      <td>14653.04981</td>\n",
       "      <td>451800.0</td>\n",
       "    </tr>\n",
       "    <tr>\n",
       "      <th>2691</th>\n",
       "      <td>2021-04-28</td>\n",
       "      <td>14710.50000</td>\n",
       "      <td>14890.25000</td>\n",
       "      <td>14694.95020</td>\n",
       "      <td>14864.54981</td>\n",
       "      <td>14864.54981</td>\n",
       "      <td>457000.0</td>\n",
       "    </tr>\n",
       "    <tr>\n",
       "      <th>2692</th>\n",
       "      <td>2021-04-29</td>\n",
       "      <td>14979.00000</td>\n",
       "      <td>15044.34961</td>\n",
       "      <td>14814.45020</td>\n",
       "      <td>14894.90039</td>\n",
       "      <td>14894.90039</td>\n",
       "      <td>517500.0</td>\n",
       "    </tr>\n",
       "    <tr>\n",
       "      <th>2693</th>\n",
       "      <td>2021-04-30</td>\n",
       "      <td>14747.34961</td>\n",
       "      <td>14855.45020</td>\n",
       "      <td>14601.70020</td>\n",
       "      <td>14631.09961</td>\n",
       "      <td>14631.09961</td>\n",
       "      <td>613900.0</td>\n",
       "    </tr>\n",
       "  </tbody>\n",
       "</table>\n",
       "</div>"
      ],
      "text/plain": [
       "            Date         Open         High          Low        Close  \\\n",
       "2689  2021-04-26  14449.45020  14557.50000  14421.29981  14485.00000   \n",
       "2690  2021-04-27  14493.79981  14667.54981  14484.84961  14653.04981   \n",
       "2691  2021-04-28  14710.50000  14890.25000  14694.95020  14864.54981   \n",
       "2692  2021-04-29  14979.00000  15044.34961  14814.45020  14894.90039   \n",
       "2693  2021-04-30  14747.34961  14855.45020  14601.70020  14631.09961   \n",
       "\n",
       "        Adj Close    Volume  \n",
       "2689  14485.00000  452700.0  \n",
       "2690  14653.04981  451800.0  \n",
       "2691  14864.54981  457000.0  \n",
       "2692  14894.90039  517500.0  \n",
       "2693  14631.09961  613900.0  "
      ]
     },
     "execution_count": 79,
     "metadata": {},
     "output_type": "execute_result"
    }
   ],
   "source": [
    "df.tail()"
   ]
  },
  {
   "cell_type": "code",
   "execution_count": null,
   "id": "d9d55f00",
   "metadata": {},
   "outputs": [],
   "source": []
  }
 ],
 "metadata": {
  "kernelspec": {
   "display_name": "Python 3 (ipykernel)",
   "language": "python",
   "name": "python3"
  },
  "language_info": {
   "codemirror_mode": {
    "name": "ipython",
    "version": 3
   },
   "file_extension": ".py",
   "mimetype": "text/x-python",
   "name": "python",
   "nbconvert_exporter": "python",
   "pygments_lexer": "ipython3",
   "version": "3.9.7"
  }
 },
 "nbformat": 4,
 "nbformat_minor": 5
}
